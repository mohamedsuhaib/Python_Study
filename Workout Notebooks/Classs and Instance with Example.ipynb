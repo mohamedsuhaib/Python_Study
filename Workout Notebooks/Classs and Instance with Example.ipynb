{
 "cells": [
  {
   "cell_type": "markdown",
   "id": "578e39e9",
   "metadata": {},
   "source": [
    "# Classs and Instance with Example"
   ]
  },
  {
   "cell_type": "markdown",
   "id": "dd9288ca",
   "metadata": {
    "toc": true
   },
   "source": [
    "<h1>Table of Contents<span class=\"tocSkip\"></span></h1>\n",
    "<div class=\"toc\"><ul class=\"toc-item\"><li><span><a href=\"#Class-Definition\" data-toc-modified-id=\"Class-Definition-1\"><span class=\"toc-item-num\">1&nbsp;&nbsp;</span>Class Definition</a></span></li><li><span><a href=\"#Creating-Instances-along-with-instance-attributes\" data-toc-modified-id=\"Creating-Instances-along-with-instance-attributes-2\"><span class=\"toc-item-num\">2&nbsp;&nbsp;</span>Creating Instances along with instance attributes</a></span></li><li><span><a href=\"#Calling-Class-method-for-adding-instance-attribute:-Engine\" data-toc-modified-id=\"Calling-Class-method-for-adding-instance-attribute:-Engine-3\"><span class=\"toc-item-num\">3&nbsp;&nbsp;</span>Calling Class method for adding instance attribute: Engine</a></span></li><li><span><a href=\"#Diplaying-Results\" data-toc-modified-id=\"Diplaying-Results-4\"><span class=\"toc-item-num\">4&nbsp;&nbsp;</span>Diplaying Results</a></span></li><li><span><a href=\"#Creating-a-new-instance:-'Stardhip'\" data-toc-modified-id=\"Creating-a-new-instance:-'Stardhip'-5\"><span class=\"toc-item-num\">5&nbsp;&nbsp;</span>Creating a new instance: 'Stardhip'</a></span></li><li><span><a href=\"#Dir()-function:-'dir(Instance_name)'\" data-toc-modified-id=\"Dir()-function:-'dir(Instance_name)'-6\"><span class=\"toc-item-num\">6&nbsp;&nbsp;</span>Dir() function: 'dir(Instance_name)'</a></span></li></ul></div>"
   ]
  },
  {
   "cell_type": "markdown",
   "id": "f8909e68",
   "metadata": {
    "ExecuteTime": {
     "end_time": "2021-06-05T20:19:05.689998Z",
     "start_time": "2021-06-05T20:19:05.684997Z"
    }
   },
   "source": [
    "##### Class Definition"
   ]
  },
  {
   "cell_type": "code",
   "execution_count": 1,
   "id": "5fe7298f",
   "metadata": {
    "ExecuteTime": {
     "end_time": "2021-06-05T20:48:14.611030Z",
     "start_time": "2021-06-05T20:48:14.600030Z"
    }
   },
   "outputs": [],
   "source": [
    "class Rockets(object): # Class Name is Rockets\n",
    "\n",
    "    Stages = \"2 Stage\" #'Class attribute' or 'method attribute', common to all objects  \n",
    "    \n",
    "    #Constuctor method, used create an instance, Ex: falcon9\n",
    "    #self refers to the instance called E.g flacon9.Reocket_name ==> self.Rocket_name\n",
    "    #'instance attributes' or 'data attribute': Rocket_name, Company_Name, CEO, Headquarters, Established\n",
    "    def __init__(self, Rocket_name, Company_Name, CEO, Headquarters, Established): \n",
    "        self.Rocket_name = Rocket_name\n",
    "        self.Company_Name = Company_Name\n",
    "        self.CEO = CEO\n",
    "        self.Headquarters = Headquarters\n",
    "        self.Established = Established\n",
    "        self.Engine = []\n",
    "\n",
    "    # class method to add instance attribute: Engine\n",
    "    def add_engine(self, Engine_name): \n",
    "        self.Engine.append(Engine_name)\n",
    "    \n",
    "    #class method to view all attributes of a instance\n",
    "    def Rocket_Details(self):\n",
    "        return(print(\"Rocket:\", self.Rocket_name, \"\\nEngine:\", \"\".join(self.Engine), \"\\nStages:\", self.Stages, \"\\nCompany Name:\", self.Company_Name, \"\\nCEO:\", self.CEO, \"\\nHeadquarters:\", self.Headquarters, \"\\nEstablished:\", self.Established))"
   ]
  },
  {
   "cell_type": "markdown",
   "id": "3225aa1a",
   "metadata": {},
   "source": [
    "##### Creating Instances along with instance attributes"
   ]
  },
  {
   "cell_type": "code",
   "execution_count": 2,
   "id": "e7d89a6c",
   "metadata": {
    "ExecuteTime": {
     "end_time": "2021-06-05T20:48:16.382132Z",
     "start_time": "2021-06-05T20:48:16.376131Z"
    }
   },
   "outputs": [],
   "source": [
    "Falcon9 = Rockets(\"Flacon9\", \"Space Exploration Technologies Corp.\",\n",
    "                  \"Elon Musk\", \"Hawthorne, California\", 2002)\n",
    "New_Glenn = Rockets(\"New Glenn\", \"Blue Origin Federation, LLC\",\n",
    "                    \"Jeff Bezos\", \" Kent, Washington\", 2000)\n",
    "Electron = Rockets(\"Electron\", \"Rocket Lab\", \" Peter Beck\",\n",
    "                   \"Long Beach, California\", 2006)\n",
    "Atlas_V = Rockets(\"Atlas V\", \"NASA\", \"Tory Bruno\",\n",
    "                  \"Centennial, Colorado\", 2006)"
   ]
  },
  {
   "cell_type": "markdown",
   "id": "7588c25c",
   "metadata": {},
   "source": [
    "##### Calling Class method for adding instance attribute: Engine"
   ]
  },
  {
   "cell_type": "code",
   "execution_count": 3,
   "id": "c4d7544b",
   "metadata": {
    "ExecuteTime": {
     "end_time": "2021-06-05T20:48:17.909219Z",
     "start_time": "2021-06-05T20:48:17.903219Z"
    }
   },
   "outputs": [],
   "source": [
    "Electron.add_engine('Rutherford')\n",
    "Falcon9.add_engine('Merlin')\n",
    "New_Glenn.add_engine('BE-4')\n",
    "Atlas_V.add_engine(\"RD-180\")"
   ]
  },
  {
   "cell_type": "markdown",
   "id": "54550f63",
   "metadata": {},
   "source": [
    "##### Diplaying Results"
   ]
  },
  {
   "cell_type": "code",
   "execution_count": 4,
   "id": "267a3a48",
   "metadata": {
    "ExecuteTime": {
     "end_time": "2021-06-05T20:48:19.705322Z",
     "start_time": "2021-06-05T20:48:19.687321Z"
    },
    "scrolled": true
   },
   "outputs": [
    {
     "name": "stdout",
     "output_type": "stream",
     "text": [
      "Rocket: Flacon9 \n",
      "Engine: Merlin \n",
      "Stages: 2 Stage \n",
      "Company Name: Space Exploration Technologies Corp. \n",
      "CEO: Elon Musk \n",
      "Headquarters: Hawthorne, California \n",
      "Established: 2002\n"
     ]
    }
   ],
   "source": [
    "Falcon9.Rocket_Details()"
   ]
  },
  {
   "cell_type": "code",
   "execution_count": 5,
   "id": "b660439d",
   "metadata": {
    "ExecuteTime": {
     "end_time": "2021-06-05T20:48:20.998396Z",
     "start_time": "2021-06-05T20:48:20.987395Z"
    }
   },
   "outputs": [
    {
     "data": {
      "text/plain": [
       "'Space Exploration Technologies Corp.'"
      ]
     },
     "execution_count": 5,
     "metadata": {},
     "output_type": "execute_result"
    }
   ],
   "source": [
    "Falcon9.Company_Name"
   ]
  },
  {
   "cell_type": "code",
   "execution_count": 6,
   "id": "b9b6ce97",
   "metadata": {
    "ExecuteTime": {
     "end_time": "2021-06-05T20:48:22.023454Z",
     "start_time": "2021-06-05T20:48:22.015454Z"
    },
    "scrolled": true
   },
   "outputs": [
    {
     "name": "stdout",
     "output_type": "stream",
     "text": [
      "Rocket: Atlas V \n",
      "Engine: RD-180 \n",
      "Stages: 2 Stage \n",
      "Company Name: NASA \n",
      "CEO: Tory Bruno \n",
      "Headquarters: Centennial, Colorado \n",
      "Established: 2006\n"
     ]
    }
   ],
   "source": [
    "Atlas_V.Rocket_Details()"
   ]
  },
  {
   "cell_type": "markdown",
   "id": "eb6475a4",
   "metadata": {
    "ExecuteTime": {
     "end_time": "2021-06-05T20:46:24.766747Z",
     "start_time": "2021-06-05T20:46:24.762747Z"
    }
   },
   "source": [
    "##### Creating a new instance: 'Stardhip'"
   ]
  },
  {
   "cell_type": "code",
   "execution_count": 7,
   "id": "6f77b0f5",
   "metadata": {
    "ExecuteTime": {
     "end_time": "2021-06-05T20:48:23.718551Z",
     "start_time": "2021-06-05T20:48:23.711551Z"
    },
    "scrolled": true
   },
   "outputs": [
    {
     "name": "stdout",
     "output_type": "stream",
     "text": [
      "Rocket: Starship \n",
      "Engine: Raptor \n",
      "Stages: 2 Stage \n",
      "Company Name: Space Exploration Technologies Corp. \n",
      "CEO: Elon Musk \n",
      "Headquarters: Hawthorne, California \n",
      "Established: 2002\n"
     ]
    }
   ],
   "source": [
    "Starship = Rockets(\"Starship\",\"Space Exploration Technologies Corp.\",\"Elon Musk\",\"Hawthorne, California\",2002)\n",
    "Starship.add_engine(\"Raptor\")\n",
    "Starship.Rocket_Details()"
   ]
  },
  {
   "cell_type": "code",
   "execution_count": 8,
   "id": "8b93ade1",
   "metadata": {
    "ExecuteTime": {
     "end_time": "2021-06-05T20:48:25.526655Z",
     "start_time": "2021-06-05T20:48:25.519654Z"
    }
   },
   "outputs": [
    {
     "data": {
      "text/plain": [
       "['Raptor']"
      ]
     },
     "execution_count": 8,
     "metadata": {},
     "output_type": "execute_result"
    }
   ],
   "source": [
    "Starship.Engine"
   ]
  },
  {
   "cell_type": "markdown",
   "id": "fb51a51e",
   "metadata": {},
   "source": [
    "##### Dir() function: 'dir(Instance_name)'\n",
    "__Diplays all methods, class attributes, instanance attributes of the class__"
   ]
  },
  {
   "cell_type": "code",
   "execution_count": 9,
   "id": "642da2be",
   "metadata": {
    "ExecuteTime": {
     "end_time": "2021-06-05T20:48:27.455765Z",
     "start_time": "2021-06-05T20:48:27.448764Z"
    }
   },
   "outputs": [
    {
     "data": {
      "text/plain": [
       "['CEO',\n",
       " 'Company_Name',\n",
       " 'Engine',\n",
       " 'Established',\n",
       " 'Headquarters',\n",
       " 'Rocket_Details',\n",
       " 'Rocket_name',\n",
       " 'Stages',\n",
       " '__class__',\n",
       " '__delattr__',\n",
       " '__dict__',\n",
       " '__dir__',\n",
       " '__doc__',\n",
       " '__eq__',\n",
       " '__format__',\n",
       " '__ge__',\n",
       " '__getattribute__',\n",
       " '__gt__',\n",
       " '__hash__',\n",
       " '__init__',\n",
       " '__init_subclass__',\n",
       " '__le__',\n",
       " '__lt__',\n",
       " '__module__',\n",
       " '__ne__',\n",
       " '__new__',\n",
       " '__reduce__',\n",
       " '__reduce_ex__',\n",
       " '__repr__',\n",
       " '__setattr__',\n",
       " '__sizeof__',\n",
       " '__str__',\n",
       " '__subclasshook__',\n",
       " '__weakref__',\n",
       " 'add_engine']"
      ]
     },
     "execution_count": 9,
     "metadata": {},
     "output_type": "execute_result"
    }
   ],
   "source": [
    "dir(Starship)"
   ]
  },
  {
   "cell_type": "code",
   "execution_count": null,
   "id": "d44eb44c",
   "metadata": {},
   "outputs": [],
   "source": []
  }
 ],
 "metadata": {
  "kernelspec": {
   "display_name": "Python 3",
   "language": "python",
   "name": "python3"
  },
  "language_info": {
   "codemirror_mode": {
    "name": "ipython",
    "version": 3
   },
   "file_extension": ".py",
   "mimetype": "text/x-python",
   "name": "python",
   "nbconvert_exporter": "python",
   "pygments_lexer": "ipython3",
   "version": "3.8.10"
  },
  "toc": {
   "base_numbering": 1,
   "nav_menu": {},
   "number_sections": true,
   "sideBar": true,
   "skip_h1_title": true,
   "title_cell": "Table of Contents",
   "title_sidebar": "Contents",
   "toc_cell": true,
   "toc_position": {},
   "toc_section_display": true,
   "toc_window_display": true
  }
 },
 "nbformat": 4,
 "nbformat_minor": 5
}
