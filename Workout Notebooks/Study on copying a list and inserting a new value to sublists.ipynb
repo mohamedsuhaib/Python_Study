{
 "cells": [
  {
   "cell_type": "markdown",
   "id": "06039c96",
   "metadata": {},
   "source": [
    "# Study on copying a list and inserting a new value to sublists"
   ]
  },
  {
   "cell_type": "markdown",
   "id": "ee4b1271",
   "metadata": {
    "toc": true
   },
   "source": [
    "<h1>Table of Contents<span class=\"tocSkip\"></span></h1>\n",
    "<div class=\"toc\"><ul class=\"toc-item\"><li><span><a href=\"#Copying-a-list\" data-toc-modified-id=\"Copying-a-list-1\"><span class=\"toc-item-num\">1&nbsp;&nbsp;</span>Copying a list</a></span><ul class=\"toc-item\"><li><span><a href=\"#Copy-by-reference\" data-toc-modified-id=\"Copy-by-reference-1.1\"><span class=\"toc-item-num\">1.1&nbsp;&nbsp;</span>Copy by reference</a></span></li><li><span><a href=\"#Clone-by-Value-or-Copy-List-Using-Slicing-Syntax\" data-toc-modified-id=\"Clone-by-Value-or-Copy-List-Using-Slicing-Syntax-1.2\"><span class=\"toc-item-num\">1.2&nbsp;&nbsp;</span>Clone by Value or Copy List Using Slicing Syntax</a></span></li><li><span><a href=\"#Copy()-method\" data-toc-modified-id=\"Copy()-method-1.3\"><span class=\"toc-item-num\">1.3&nbsp;&nbsp;</span>Copy() method</a></span></li></ul></li><li><span><a href=\"#Copying-a-List-of-Lists\" data-toc-modified-id=\"Copying-a-List-of-Lists-2\"><span class=\"toc-item-num\">2&nbsp;&nbsp;</span>Copying a List of Lists</a></span><ul class=\"toc-item\"><li><span><a href=\"#Copy-by-reference\" data-toc-modified-id=\"Copy-by-reference-2.1\"><span class=\"toc-item-num\">2.1&nbsp;&nbsp;</span>Copy by reference</a></span></li><li><span><a href=\"#Clone-by-Value--or-Copy-List-Using-Slicing-Syntax\" data-toc-modified-id=\"Clone-by-Value--or-Copy-List-Using-Slicing-Syntax-2.2\"><span class=\"toc-item-num\">2.2&nbsp;&nbsp;</span>Clone by Value  or Copy List Using Slicing Syntax</a></span><ul class=\"toc-item\"><li><span><a href=\"#Inserting-a-new-value-to-sublist\" data-toc-modified-id=\"Inserting-a-new-value-to-sublist-2.2.1\"><span class=\"toc-item-num\">2.2.1&nbsp;&nbsp;</span>Inserting a new value to sublist</a></span></li></ul></li><li><span><a href=\"#list-Copy()-method\" data-toc-modified-id=\"list-Copy()-method-2.3\"><span class=\"toc-item-num\">2.3&nbsp;&nbsp;</span>list Copy() method</a></span><ul class=\"toc-item\"><li><span><a href=\"#Error:-Scenario-1\" data-toc-modified-id=\"Error:-Scenario-1-2.3.1\"><span class=\"toc-item-num\">2.3.1&nbsp;&nbsp;</span>Error: Scenario 1</a></span></li><li><span><a href=\"#Error:-Scenario-2\" data-toc-modified-id=\"Error:-Scenario-2-2.3.2\"><span class=\"toc-item-num\">2.3.2&nbsp;&nbsp;</span>Error: Scenario 2</a></span></li></ul></li></ul></li><li><span><a href=\"#Shallow-copy.copy(List)-function\" data-toc-modified-id=\"Shallow-copy.copy(List)-function-3\"><span class=\"toc-item-num\">3&nbsp;&nbsp;</span>Shallow copy.copy(List) function</a></span><ul class=\"toc-item\"><li><ul class=\"toc-item\"><li><span><a href=\"#Error-Scenario\" data-toc-modified-id=\"Error-Scenario-3.0.1\"><span class=\"toc-item-num\">3.0.1&nbsp;&nbsp;</span>Error Scenario</a></span></li></ul></li></ul></li><li><span><a href=\"#Deepcopy()-Method-(Solution-to-Overcome-Error-Scenarios)\" data-toc-modified-id=\"Deepcopy()-Method-(Solution-to-Overcome-Error-Scenarios)-4\"><span class=\"toc-item-num\">4&nbsp;&nbsp;</span>Deepcopy() Method (Solution to Overcome Error Scenarios)</a></span></li></ul></div>"
   ]
  },
  {
   "cell_type": "markdown",
   "id": "ac2a1d1f",
   "metadata": {},
   "source": [
    "#### Copying a list"
   ]
  },
  {
   "cell_type": "markdown",
   "id": "a06719f1",
   "metadata": {},
   "source": [
    "##### Copy by reference\n",
    "__When we set one variable List_B equal to List_A; both List_A and List_B are referencing the same list in memory__\n",
    "\n",
    "i.e, Add/Edit/Remove any value in any one of the list will be reflected in other list too."
   ]
  },
  {
   "cell_type": "code",
   "execution_count": 55,
   "id": "a6f5c816",
   "metadata": {
    "ExecuteTime": {
     "end_time": "2021-06-05T18:48:13.931175Z",
     "start_time": "2021-06-05T18:48:13.923174Z"
    },
    "scrolled": true
   },
   "outputs": [
    {
     "name": "stdout",
     "output_type": "stream",
     "text": [
      "[3, 'A', 4.5]\n",
      "[3, 'A', 4.5]\n",
      "['T', 'A', 4.5]\n",
      "['T', 'A', 4.5]\n"
     ]
    }
   ],
   "source": [
    "List_A = [3,'A',4.5]\n",
    "List_B = List_A\n",
    "print(List_A)\n",
    "print(List_B)\n",
    "\n",
    "List_B[0] = 'T'\n",
    "print(List_A)\n",
    "print(List_B)"
   ]
  },
  {
   "cell_type": "markdown",
   "id": "530d0d5e",
   "metadata": {},
   "source": [
    "##### Clone by Value or Copy List Using Slicing Syntax\n",
    "__Variable List_D references a new copy or clone of the original list__"
   ]
  },
  {
   "cell_type": "code",
   "execution_count": 57,
   "id": "a2475745",
   "metadata": {
    "ExecuteTime": {
     "end_time": "2021-06-05T18:51:56.055880Z",
     "start_time": "2021-06-05T18:51:56.048879Z"
    },
    "scrolled": true
   },
   "outputs": [
    {
     "name": "stdout",
     "output_type": "stream",
     "text": [
      "[21, 'F', 'I']\n",
      "[21, 'F', 'I']\n",
      "[21, 'F', 'I']\n",
      "['S', 'F', 'I']\n"
     ]
    }
   ],
   "source": [
    "List_C = [21,'F','I']\n",
    "List_D = List_C[:]\n",
    "print(List_C)\n",
    "print(List_D)\n",
    "\n",
    "List_D[0] = 'S'\n",
    "print(List_C)\n",
    "print(List_D)"
   ]
  },
  {
   "cell_type": "markdown",
   "id": "0b4b8843",
   "metadata": {},
   "source": [
    "##### Copy() method\n",
    "__The copy() method returns a shallow copy of the list. i.e, original list unchanged when the new list is modified. Copy() method and Clone ':' works in simillar way.__ "
   ]
  },
  {
   "cell_type": "code",
   "execution_count": 59,
   "id": "0cf3201f",
   "metadata": {
    "ExecuteTime": {
     "end_time": "2021-06-05T18:54:05.657292Z",
     "start_time": "2021-06-05T18:54:05.648292Z"
    }
   },
   "outputs": [
    {
     "name": "stdout",
     "output_type": "stream",
     "text": [
      "[11, 33, 55]\n",
      "[11, 33, 55]\n",
      "['T', 33, 55]\n",
      "[11, 33, 55]\n"
     ]
    }
   ],
   "source": [
    "List_E = [11,33,55]\n",
    "List_F = List_E.copy()\n",
    "print(List_E)\n",
    "print(List_F)\n",
    "\n",
    "List_E[0] = 'T'\n",
    "print(List_E)\n",
    "print(List_F)"
   ]
  },
  {
   "cell_type": "markdown",
   "id": "f3dc93db",
   "metadata": {},
   "source": [
    "#### Copying a List of Lists"
   ]
  },
  {
   "cell_type": "markdown",
   "id": "6c4972db",
   "metadata": {},
   "source": [
    "##### Copy by reference\n",
    "\n",
    "i.e, Add/Edit/Remove any value in any one of the list will be reflected in other list too."
   ]
  },
  {
   "cell_type": "code",
   "execution_count": 78,
   "id": "3cdc81fa",
   "metadata": {
    "ExecuteTime": {
     "end_time": "2021-06-05T19:03:14.492684Z",
     "start_time": "2021-06-05T19:03:14.488684Z"
    }
   },
   "outputs": [
    {
     "name": "stdout",
     "output_type": "stream",
     "text": [
      "[[11, 22, 33], [44, 55, 66]]\n",
      "[[11, 22, 33], [44, 55, 66]]\n",
      "[[100, 22, 33], [44, 55, 66]]\n",
      "[[100, 22, 33], [44, 55, 66]]\n"
     ]
    }
   ],
   "source": [
    "LOL1=[[11,22,33],[44,55,66]]\n",
    "LOL2 = LOL1\n",
    "print(LOL1)\n",
    "print(LOL2)\n",
    "\n",
    "LOL1[0][0] = 100\n",
    "print(LOL1)\n",
    "print(LOL2)"
   ]
  },
  {
   "cell_type": "markdown",
   "id": "02367343",
   "metadata": {},
   "source": [
    "##### Clone by Value  or Copy List Using Slicing Syntax"
   ]
  },
  {
   "cell_type": "code",
   "execution_count": 109,
   "id": "ea4861b5",
   "metadata": {
    "ExecuteTime": {
     "end_time": "2021-06-05T19:51:12.690308Z",
     "start_time": "2021-06-05T19:51:12.681307Z"
    },
    "scrolled": true
   },
   "outputs": [
    {
     "name": "stdout",
     "output_type": "stream",
     "text": [
      "[[11, 22, 33], [44, 55, 66]]\n",
      "[[11, 22, 33], [44, 55, 66]]\n",
      "[[11, 22, 33], [44, 55, 66]]\n",
      "[[77, 88, 99], [44, 55, 66]]\n"
     ]
    }
   ],
   "source": [
    "LOL3=[[11,22,33],[44,55,66]]\n",
    "LOL4 = LOL3[:]\n",
    "print(LOL3)\n",
    "print(LOL4)\n",
    "\n",
    "LOL4[0] = [77,88,99]\n",
    "print(LOL3)\n",
    "print(LOL4)"
   ]
  },
  {
   "cell_type": "markdown",
   "id": "9d8272a6",
   "metadata": {},
   "source": [
    "###### Inserting a new value to sublist\n"
   ]
  },
  {
   "cell_type": "markdown",
   "id": "39dcafd7",
   "metadata": {},
   "source": [
    "__Original list unchanged__"
   ]
  },
  {
   "cell_type": "code",
   "execution_count": 110,
   "id": "66decbcd",
   "metadata": {
    "ExecuteTime": {
     "end_time": "2021-06-05T19:51:49.102390Z",
     "start_time": "2021-06-05T19:51:49.096390Z"
    }
   },
   "outputs": [
    {
     "name": "stdout",
     "output_type": "stream",
     "text": [
      "[[11, 22, 33], [44, 55, 66]]\n",
      "[[100, 88, 99], [44, 55, 66]]\n"
     ]
    }
   ],
   "source": [
    "LOL4[0][0] = 100\n",
    "print(LOL3)\n",
    "print(LOL4)"
   ]
  },
  {
   "cell_type": "markdown",
   "id": "a9e1a6b8",
   "metadata": {
    "ExecuteTime": {
     "end_time": "2021-06-05T19:44:02.030675Z",
     "start_time": "2021-06-05T19:44:02.026675Z"
    }
   },
   "source": [
    "##### list Copy() method"
   ]
  },
  {
   "cell_type": "code",
   "execution_count": 112,
   "id": "e2244104",
   "metadata": {
    "ExecuteTime": {
     "end_time": "2021-06-05T20:00:04.743739Z",
     "start_time": "2021-06-05T20:00:04.734739Z"
    },
    "scrolled": true
   },
   "outputs": [
    {
     "name": "stdout",
     "output_type": "stream",
     "text": [
      "[[11, 22, 33], [44, 55, 66]]\n",
      "[[11, 22, 33], [44, 55, 66]]\n",
      "[500, [44, 55, 66]]\n",
      "[[11, 22, 33], [44, 55, 66]]\n"
     ]
    }
   ],
   "source": [
    "LOL5=[[11,22,33],[44,55,66]]\n",
    "LOL6 = LOL5.copy()\n",
    "print(LOL5)\n",
    "print(LOL6)\n",
    "\n",
    "LOL5[0] = 500\n",
    "print(LOL5)\n",
    "print(LOL6)"
   ]
  },
  {
   "cell_type": "markdown",
   "id": "f0e12186",
   "metadata": {},
   "source": [
    "###### Error: Scenario 1\n",
    "__Original list Changed, Value Reflected in both List__"
   ]
  },
  {
   "cell_type": "code",
   "execution_count": 104,
   "id": "1457ae81",
   "metadata": {
    "ExecuteTime": {
     "end_time": "2021-06-05T19:47:03.434051Z",
     "start_time": "2021-06-05T19:47:03.426050Z"
    }
   },
   "outputs": [
    {
     "name": "stdout",
     "output_type": "stream",
     "text": [
      "[[11, 22, 33], [44, 55, 66]]\n",
      "[[11, 22, 33], [44, 55, 66]]\n",
      "[[200, 22, 33], [44, 55, 66]]\n",
      "[[200, 22, 33], [44, 55, 66]]\n"
     ]
    }
   ],
   "source": [
    "LOL5=[[11,22,33],[44,55,66]]\n",
    "LOL6 = LOL5.copy()\n",
    "print(LOL5)\n",
    "print(LOL6)\n",
    "\n",
    "LOL5[0][0] = 200\n",
    "print(LOL5)\n",
    "print(LOL6)"
   ]
  },
  {
   "cell_type": "markdown",
   "id": "c211c5d6",
   "metadata": {},
   "source": [
    "###### Error: Scenario 2\n",
    "__Original list Changed, Value Reflected in both List__"
   ]
  },
  {
   "cell_type": "code",
   "execution_count": 87,
   "id": "aa594a9d",
   "metadata": {
    "ExecuteTime": {
     "end_time": "2021-06-05T19:06:35.083157Z",
     "start_time": "2021-06-05T19:06:35.075157Z"
    }
   },
   "outputs": [
    {
     "name": "stdout",
     "output_type": "stream",
     "text": [
      "[[1, 2, 3], [1, 5, 6]]\n",
      "[[8, 2, 3], [1, 5, 6]]\n",
      "[[8, 2, 3], [1, 5, 6]]\n"
     ]
    }
   ],
   "source": [
    "\n",
    "my_list = [[1, 2, 3],[1,5,6]]\n",
    "\n",
    "def my_func(list_as_argument):\n",
    "\tnew_list = list_as_argument.copy()\n",
    "\tnew_list[0][0] = 8\n",
    "\tprint(new_list)\n",
    "\n",
    "print(my_list)\n",
    "my_func(my_list)\n",
    "print(my_list)"
   ]
  },
  {
   "cell_type": "markdown",
   "id": "17ccfebc",
   "metadata": {},
   "source": [
    "#### Shallow copy.copy(List) function"
   ]
  },
  {
   "cell_type": "code",
   "execution_count": 115,
   "id": "a8d96bb9",
   "metadata": {
    "ExecuteTime": {
     "end_time": "2021-06-05T20:01:03.381093Z",
     "start_time": "2021-06-05T20:01:03.373093Z"
    }
   },
   "outputs": [
    {
     "name": "stdout",
     "output_type": "stream",
     "text": [
      "[[11, 22, 33], [44, 55, 66]]\n",
      "[[11, 22, 33], [44, 55, 66]]\n",
      "[[500, 22, 33], [44, 55, 66]]\n",
      "[[500, 22, 33], [44, 55, 66]]\n"
     ]
    }
   ],
   "source": [
    "import copy\n",
    "LOL5=[[11,22,33],[44,55,66]]\n",
    "LOL6 = copy.copy(LOL5)\n",
    "print(LOL5)\n",
    "print(LOL6)"
   ]
  },
  {
   "cell_type": "markdown",
   "id": "8507f0da",
   "metadata": {},
   "source": [
    "###### Error Scenario\n",
    "__Original list Changed, Value Reflected in both List when changing a value in sublist__"
   ]
  },
  {
   "cell_type": "code",
   "execution_count": null,
   "id": "16ffe642",
   "metadata": {},
   "outputs": [],
   "source": [
    "LOL5[0][0] = 500\n",
    "print(LOL5)\n",
    "print(LOL6)"
   ]
  },
  {
   "cell_type": "markdown",
   "id": "0cff094b",
   "metadata": {
    "ExecuteTime": {
     "end_time": "2021-06-05T19:56:41.435111Z",
     "start_time": "2021-06-05T19:56:41.431110Z"
    }
   },
   "source": [
    "#### Deepcopy() Method (Solution to Overcome Error Scenarios)\n",
    "__To overcome the Errors, Deepcopy() method can be used.\n",
    "Deepcopy() can be used when a list contains multiple objects like sublist, tuples, sets, etc,."
   ]
  },
  {
   "cell_type": "code",
   "execution_count": 91,
   "id": "50fb8296",
   "metadata": {
    "ExecuteTime": {
     "end_time": "2021-06-05T19:06:52.584158Z",
     "start_time": "2021-06-05T19:06:52.571157Z"
    }
   },
   "outputs": [
    {
     "data": {
      "text/plain": [
       "[[1, 2, 3, 'Z'], [2, 3, 4, 'Z'], [4, 4, 4, 'Z']]"
      ]
     },
     "execution_count": 91,
     "metadata": {},
     "output_type": "execute_result"
    }
   ],
   "source": [
    "import copy\n",
    "List_of_Lists = [[1,2,3],[2,3,4],[4,4,4]]\n",
    "List1 = ['Z','Y','X']\n",
    "\n",
    "def Insert_List_of_Lists(List_X,index,value):\n",
    "    temp_list=copy.deepcopy(List_X)\n",
    "    if index<=len(temp_list):\n",
    "        for i in range(len(temp_list)):\n",
    "            temp_list[i].insert(index,value)\n",
    "    else:\n",
    "        for i in range(len(temp_list)):\n",
    "            temp_list[i].insert(len(temp_list),value)\n",
    "        print(\"Given index Out of range, value appended\")\n",
    "    return(temp_list)\n",
    "\n",
    "New_List_of_List = Insert_List_of_Lists(List_of_Lists,3,List1[0])\n",
    "New_List_of_List"
   ]
  },
  {
   "cell_type": "code",
   "execution_count": 92,
   "id": "73ef4a60",
   "metadata": {
    "ExecuteTime": {
     "end_time": "2021-06-05T19:06:56.058357Z",
     "start_time": "2021-06-05T19:06:56.051356Z"
    }
   },
   "outputs": [
    {
     "data": {
      "text/plain": [
       "[[1, 2, 3], [2, 3, 4], [4, 4, 4]]"
      ]
     },
     "execution_count": 92,
     "metadata": {},
     "output_type": "execute_result"
    }
   ],
   "source": [
    "List_of_Lists"
   ]
  },
  {
   "cell_type": "code",
   "execution_count": 94,
   "id": "c799acb5",
   "metadata": {
    "ExecuteTime": {
     "end_time": "2021-06-05T19:07:37.483726Z",
     "start_time": "2021-06-05T19:07:37.474726Z"
    }
   },
   "outputs": [
    {
     "name": "stdout",
     "output_type": "stream",
     "text": [
      "Given index Out of range, value appended\n"
     ]
    },
    {
     "data": {
      "text/plain": [
       "[[1, 2, 3, 'J'], [2, 3, 4, 'J'], [4, 4, 4, 'J']]"
      ]
     },
     "execution_count": 94,
     "metadata": {},
     "output_type": "execute_result"
    }
   ],
   "source": [
    "X_list = Insert_List_of_Lists(List_of_Lists,8,'J')\n",
    "X_list"
   ]
  },
  {
   "cell_type": "code",
   "execution_count": null,
   "id": "c118e338",
   "metadata": {},
   "outputs": [],
   "source": []
  },
  {
   "cell_type": "code",
   "execution_count": null,
   "id": "c5bcf8ab",
   "metadata": {},
   "outputs": [],
   "source": []
  }
 ],
 "metadata": {
  "kernelspec": {
   "display_name": "Python 3",
   "language": "python",
   "name": "python3"
  },
  "language_info": {
   "codemirror_mode": {
    "name": "ipython",
    "version": 3
   },
   "file_extension": ".py",
   "mimetype": "text/x-python",
   "name": "python",
   "nbconvert_exporter": "python",
   "pygments_lexer": "ipython3",
   "version": "3.8.10"
  },
  "toc": {
   "base_numbering": 1,
   "nav_menu": {},
   "number_sections": true,
   "sideBar": true,
   "skip_h1_title": true,
   "title_cell": "Table of Contents",
   "title_sidebar": "Contents",
   "toc_cell": true,
   "toc_position": {},
   "toc_section_display": true,
   "toc_window_display": true
  }
 },
 "nbformat": 4,
 "nbformat_minor": 5
}
